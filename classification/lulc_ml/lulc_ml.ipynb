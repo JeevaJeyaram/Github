{
  "cells": [
    {
      "cell_type": "markdown",
      "metadata": {
        "id": "gJtZbSqGXA7v"
      },
      "source": [
        "# Supervised Classification with Machine Learning Methods for Sentinel-2 Satellite Imagery\n",
        "\n",
        "Michael Mommert, Stuttgart University of Applied Sciences, 2024\n",
        "\n",
        "This Notebook introduces different supervised machine learning methods for pixel-wise classification. We will apply these methods to Sentinel-2 satellite images from the [*ben-ge-800* dataset](https://zenodo.org/records/12941231) to perform pixel-wise classification based on land-use/land-cover information."
      ]
    },
    {
      "cell_type": "code",
      "execution_count": 2,
      "metadata": {
        "id": "N2q6R2hHXA7z",
        "outputId": "4269ee37-fe3b-4215-841d-e4e4575a4414",
        "colab": {
          "base_uri": "https://localhost:8080/"
        }
      },
      "outputs": [
        {
          "output_type": "stream",
          "name": "stdout",
          "text": [
            "Requirement already satisfied: numpy in /usr/local/lib/python3.10/dist-packages (1.26.4)\n",
            "Requirement already satisfied: scipy in /usr/local/lib/python3.10/dist-packages (1.13.1)\n",
            "Requirement already satisfied: matplotlib in /usr/local/lib/python3.10/dist-packages (3.8.0)\n",
            "Collecting rasterio\n",
            "  Downloading rasterio-1.4.2-cp310-cp310-manylinux_2_17_x86_64.manylinux2014_x86_64.whl.metadata (9.1 kB)\n",
            "Requirement already satisfied: scikit-learn in /usr/local/lib/python3.10/dist-packages (1.5.2)\n",
            "Requirement already satisfied: contourpy>=1.0.1 in /usr/local/lib/python3.10/dist-packages (from matplotlib) (1.3.0)\n",
            "Requirement already satisfied: cycler>=0.10 in /usr/local/lib/python3.10/dist-packages (from matplotlib) (0.12.1)\n",
            "Requirement already satisfied: fonttools>=4.22.0 in /usr/local/lib/python3.10/dist-packages (from matplotlib) (4.54.1)\n",
            "Requirement already satisfied: kiwisolver>=1.0.1 in /usr/local/lib/python3.10/dist-packages (from matplotlib) (1.4.7)\n",
            "Requirement already satisfied: packaging>=20.0 in /usr/local/lib/python3.10/dist-packages (from matplotlib) (24.1)\n",
            "Requirement already satisfied: pillow>=6.2.0 in /usr/local/lib/python3.10/dist-packages (from matplotlib) (10.4.0)\n",
            "Requirement already satisfied: pyparsing>=2.3.1 in /usr/local/lib/python3.10/dist-packages (from matplotlib) (3.2.0)\n",
            "Requirement already satisfied: python-dateutil>=2.7 in /usr/local/lib/python3.10/dist-packages (from matplotlib) (2.8.2)\n",
            "Collecting affine (from rasterio)\n",
            "  Downloading affine-2.4.0-py3-none-any.whl.metadata (4.0 kB)\n",
            "Requirement already satisfied: attrs in /usr/local/lib/python3.10/dist-packages (from rasterio) (24.2.0)\n",
            "Requirement already satisfied: certifi in /usr/local/lib/python3.10/dist-packages (from rasterio) (2024.8.30)\n",
            "Requirement already satisfied: click>=4.0 in /usr/local/lib/python3.10/dist-packages (from rasterio) (8.1.7)\n",
            "Collecting cligj>=0.5 (from rasterio)\n",
            "  Downloading cligj-0.7.2-py3-none-any.whl.metadata (5.0 kB)\n",
            "Collecting click-plugins (from rasterio)\n",
            "  Downloading click_plugins-1.1.1-py2.py3-none-any.whl.metadata (6.4 kB)\n",
            "Requirement already satisfied: joblib>=1.2.0 in /usr/local/lib/python3.10/dist-packages (from scikit-learn) (1.4.2)\n",
            "Requirement already satisfied: threadpoolctl>=3.1.0 in /usr/local/lib/python3.10/dist-packages (from scikit-learn) (3.5.0)\n",
            "Requirement already satisfied: six>=1.5 in /usr/local/lib/python3.10/dist-packages (from python-dateutil>=2.7->matplotlib) (1.16.0)\n",
            "Downloading rasterio-1.4.2-cp310-cp310-manylinux_2_17_x86_64.manylinux2014_x86_64.whl (22.2 MB)\n",
            "\u001b[2K   \u001b[90m━━━━━━━━━━━━━━━━━━━━━━━━━━━━━━━━━━━━━━━━\u001b[0m \u001b[32m22.2/22.2 MB\u001b[0m \u001b[31m70.1 MB/s\u001b[0m eta \u001b[36m0:00:00\u001b[0m\n",
            "\u001b[?25hDownloading cligj-0.7.2-py3-none-any.whl (7.1 kB)\n",
            "Downloading affine-2.4.0-py3-none-any.whl (15 kB)\n",
            "Downloading click_plugins-1.1.1-py2.py3-none-any.whl (7.5 kB)\n",
            "Installing collected packages: cligj, click-plugins, affine, rasterio\n",
            "Successfully installed affine-2.4.0 click-plugins-1.1.1 cligj-0.7.2 rasterio-1.4.2\n"
          ]
        }
      ],
      "source": [
        "%pip install numpy \\\n",
        "    scipy \\\n",
        "    matplotlib \\\n",
        "    rasterio \\\n",
        "    scikit-learn"
      ]
    },
    {
      "cell_type": "code",
      "execution_count": 3,
      "metadata": {
        "id": "1-U5YuhHXA70"
      },
      "outputs": [],
      "source": [
        "import os\n",
        "import numpy as np\n",
        "import matplotlib.pyplot as plt\n",
        "import rasterio\n",
        "import tarfile"
      ]
    },
    {
      "cell_type": "markdown",
      "metadata": {
        "id": "PQ5r0RP8XA71"
      },
      "source": [
        "## Data Download\n",
        "\n",
        "We download the *ben-ge-800* dataset and unpack it:"
      ]
    },
    {
      "cell_type": "code",
      "execution_count": 4,
      "metadata": {
        "id": "7fhq5nwqXA71",
        "outputId": "baf57139-cf00-438a-f4e5-69910c49c7b1",
        "colab": {
          "base_uri": "https://localhost:8080/"
        }
      },
      "outputs": [
        {
          "output_type": "stream",
          "name": "stdout",
          "text": [
            "--2024-11-07 11:22:23--  https://zenodo.org/records/12941231/files/ben-ge-800.tar.gz?download=1\n",
            "Resolving zenodo.org (zenodo.org)... 188.185.79.172, 188.184.98.238, 188.184.103.159, ...\n",
            "Connecting to zenodo.org (zenodo.org)|188.185.79.172|:443... connected.\n",
            "HTTP request sent, awaiting response... 200 OK\n",
            "Length: 183201083 (175M) [application/octet-stream]\n",
            "Saving to: ‘ben-ge-800.tar.gz’\n",
            "\n",
            "ben-ge-800.tar.gz   100%[===================>] 174.71M  9.35MB/s    in 21s     \n",
            "\n",
            "2024-11-07 11:22:45 (8.47 MB/s) - ‘ben-ge-800.tar.gz’ saved [183201083/183201083]\n",
            "\n"
          ]
        }
      ],
      "source": [
        "!wget https://zenodo.org/records/12941231/files/ben-ge-800.tar.gz?download=1 -O ben-ge-800.tar.gz\n",
        "\n",
        "tarfile = tarfile.open('ben-ge-800.tar.gz')  # open ben-ge-800 tarball\n",
        "tarfile.extractall('./')  # extract tarball"
      ]
    },
    {
      "cell_type": "markdown",
      "metadata": {
        "id": "QY3Qrp96XA72"
      },
      "source": [
        "Ben-ge-800 contains 800 samples ...\n",
        "\n",
        "Each image is represented by 12 TIF files, each containing a separate band. Note that some of these bands have different GSDs.\n",
        "\n",
        "We read in the R, G and B band for a single scene:"
      ]
    },
    {
      "cell_type": "code",
      "execution_count": 5,
      "metadata": {
        "id": "HRzgEKO8XA72",
        "outputId": "cd68ac15-85c0-42cf-c679-52f73ad6b8bb",
        "colab": {
          "base_uri": "https://localhost:8080/"
        }
      },
      "outputs": [
        {
          "output_type": "execute_result",
          "data": {
            "text/plain": [
              "(3, 120, 120)"
            ]
          },
          "metadata": {},
          "execution_count": 5
        }
      ],
      "source": [
        "sen2_path = 'ben-ge-800/sentinel-2/'\n",
        "filename = 'S2B_MSIL2A_20180525T94030_7_51'\n",
        "bands = ['B04', 'B03', 'B02']  # R, G, B\n",
        "\n",
        "data = []\n",
        "for band in bands:\n",
        "    dataset = rasterio.open(os.path.join(sen2_path, filename, filename+'_'+band+'.tif'))\n",
        "    data.append(dataset.read(1))\n",
        "data = np.array(data)\n",
        "data.shape"
      ]
    },
    {
      "cell_type": "markdown",
      "metadata": {
        "id": "DY0ILGFoXA73"
      },
      "source": [
        "The data is now stored as a Numpy array, following the shape convention `[bands, height, width]`.\n",
        "\n",
        "Let's display this image. In order to do so, we have to do two things:\n",
        "\n",
        "1. we have to change the shape to `[height, width, bands]` (this particular shape is expected by matplotlib)\n",
        "2. we have to normalize the pixel values (which vary on a large range) to a range from 0 to 1."
      ]
    },
    {
      "cell_type": "code",
      "execution_count": 6,
      "metadata": {
        "id": "SDWJLfppXA73",
        "outputId": "da741e64-6f54-44b8-86d3-d63005bb4884",
        "colab": {
          "base_uri": "https://localhost:8080/",
          "height": 451
        }
      },
      "outputs": [
        {
          "output_type": "execute_result",
          "data": {
            "text/plain": [
              "<matplotlib.image.AxesImage at 0x7d343c4dd330>"
            ]
          },
          "metadata": {},
          "execution_count": 6
        },
        {
          "output_type": "display_data",
          "data": {
            "text/plain": [
              "<Figure size 640x480 with 1 Axes>"
            ],
            "image/png": "[encoded data removed]"
          },
          "metadata": {}
        }
      ],
      "source": [
        "img = np.dstack(data)\n",
        "\n",
        "# then we normalize the pixel values in such a way that they range from 0 (min) to 1 (max)\n",
        "img = (img-np.min(img, axis=(0,1)))/(np.max(img, axis=(0,1)) - np.min(img, axis=(0,1)))\n",
        "\n",
        "# now we can plot the image\n",
        "plt.imshow(img)"
      ]
    },
    {
      "cell_type": "markdown",
      "metadata": {
        "id": "u7B-RzdGXA74"
      },
      "source": [
        "This looks good.\n",
        "\n",
        "Now, let's read in all scenes from the dataset. In this tutorial, we will not only use the RGB data, but also band 8, which contains NIR data. We will ignore the other bands, which saves us the effort of having to rescale those other bands (although this could be easily done with image interpolation techniques). Reading in all images takes a few seconds:"
      ]
    },
    {
      "cell_type": "code",
      "execution_count": 7,
      "metadata": {
        "id": "lKp5voHjXA74"
      },
      "outputs": [],
      "source": [
        "filelist = os.listdir(sen2_path)\n",
        "bands = ['B04', 'B03', 'B02', 'B08']  # R, G, B, NIR\n",
        "\n",
        "data = []\n",
        "for filename in sorted(filelist):\n",
        "    scene = []\n",
        "    for band in bands:\n",
        "        dataset = rasterio.open(os.path.join(sen2_path, filename, filename+'_'+band+'.tif'))\n",
        "        scene.append(dataset.read(1))\n",
        "    data.append(np.stack(scene, axis=0))\n",
        "data = np.stack(data, axis=0)"
      ]
    },
    {
      "cell_type": "markdown",
      "metadata": {
        "id": "MCSc8R2pXA75"
      },
      "source": [
        "Before we move on, we scale the data appropriately. For this purpose, we simply scale each band by the mean value in each band:"
      ]
    },
    {
      "cell_type": "code",
      "execution_count": 8,
      "metadata": {
        "id": "Zdb6lb5fXA75",
        "outputId": "6d055156-82ac-4b24-b5e4-5e44e00865e5",
        "colab": {
          "base_uri": "https://localhost:8080/"
        }
      },
      "outputs": [
        {
          "output_type": "execute_result",
          "data": {
            "text/plain": [
              "(800, 4, 120, 120)"
            ]
          },
          "metadata": {},
          "execution_count": 8
        }
      ],
      "source": [
        "data = data/data.mean(axis=(0, 2, 3)).reshape(1, 4, 1, 1)\n",
        "data.shape"
      ]
    },
    {
      "cell_type": "markdown",
      "metadata": {
        "id": "kyPkr_HqXA75"
      },
      "source": [
        "Now we can easily access any scene from our dataset:"
      ]
    },
    {
      "cell_type": "code",
      "execution_count": 9,
      "metadata": {
        "id": "irm2CZPAXA75",
        "outputId": "032996a1-a1ae-476d-ac4c-3eb44c925a9e",
        "colab": {
          "base_uri": "https://localhost:8080/",
          "height": 451
        }
      },
      "outputs": [
        {
          "output_type": "execute_result",
          "data": {
            "text/plain": [
              "<matplotlib.image.AxesImage at 0x7d341049c0a0>"
            ]
          },
          "metadata": {},
          "execution_count": 9
        },
        {
          "output_type": "display_data",
          "data": {
            "text/plain": [
              "<Figure size 640x480 with 1 Axes>"
            ],
            "image/png": "[encoded data removed]"
          },
          "metadata": {}
        }
      ],
      "source": [
        "i = 385 # image index\n",
        "\n",
        "img = np.dstack([data[i][0], data[i][1], data[i][2]])  # we extract the R, G, B bands for this scene\n",
        "\n",
        "# then we normalize the pixel values in such a way that they range from 0 (min) to 1 (max)\n",
        "img = (img-np.min(img, axis=(0,1)))/(np.max(img, axis=(0,1)) - np.min(img, axis=(0,1)))\n",
        "\n",
        "# now we can plot the image\n",
        "plt.imshow(img)"
      ]
    },
    {
      "cell_type": "markdown",
      "metadata": {
        "id": "84tT4brdXA76"
      },
      "source": [
        "### Image cropping\n",
        "\n",
        "In order to annotate ground-truth data (see below), we have to be able to extract pixels that belong to specific land-use/land-cover classes based on their coordinates. As you can see in the image above, the axis labels provide those coordinates. Note that the origin of these coordinates lies in the top left corner of the image. This is due to the fact that in Python, images are stored as arrays and those use matrix notation: each pixel is denoted by a pair of numbers that correspond to its row and column.\n",
        "\n",
        "Therefore, we can extract the spectral properties of any pixel. Let's compare the properties of pixels that should be members of different land-use/land-cover classes:"
      ]
    },
    {
      "cell_type": "code",
      "execution_count": 10,
      "metadata": {
        "id": "Pc5feNjiXA76",
        "outputId": "80e4d181-0441-41ee-b5e2-ab1e6282faa0",
        "colab": {
          "base_uri": "https://localhost:8080/"
        }
      },
      "outputs": [
        {
          "output_type": "stream",
          "name": "stdout",
          "text": [
            "water [0.1549684  0.42698751 0.4535954  0.00686251]\n",
            "forest [0.15406215 0.29926417 0.25556228 0.77425259]\n",
            "grassland [0.43046778 0.63861669 0.48235998 1.68414067]\n"
          ]
        }
      ],
      "source": [
        "print('water', data[i, :, 20, 115])\n",
        "print('forest', data[i, :, 60, 60])\n",
        "print('grassland', data[i, :, 100, 60])"
      ]
    },
    {
      "cell_type": "markdown",
      "metadata": {
        "id": "kTmY4YfeXA76"
      },
      "source": [
        "Note the notation here. The array `data` has the shape `(800, 4, 120, 120)`. This means that it contains 800 images, each with 4 bands, a height of 120 pixels and width of 120 pixels. The notation to address an individual pixel is therefore `[image index, band, row, column]`. As an example, `data[i, :, 20, 115]` will provide us for the image with the index `i` (385 in this case) all bands (`:`) at the pixel at row 20 and column 115.\n",
        "\n",
        "The output also requires some explanations. Naturally, there are 4 numbers (corresponding to the 4 different bands in our dataset). But what is the order of the bands? That order was decided upon when we created `data` (see above) and the order is `[R, G, B, NIR]`.\n",
        "\n",
        "Now we can use this information to discuss the different pixel values that we just extracted:\n",
        "\n",
        "* Water has its highest reflectivity in the B band (water appears blueish) and its lowest reflectivity in NIR.\n",
        "* The forest pixel reflectivities are very low across all bands (forest appears dark); among the RGB values, G is highest (forest appears green) and NIR is much higher than for water (vegetation!).\n",
        "* The grassland pixel is among features the highest reflectivities across all bands (appears lighter than other terrains) and has the highest reflectivity of all terrains in G and NIR (vegetation!).\n",
        "\n",
        "We will leverage the different spectral properties to identify different land-use/land-cover classes in our dataset!\n",
        "\n",
        "**Exercise**: extract band values for the same 3 classes from different locations in the same image."
      ]
    },
    {
      "cell_type": "code",
      "execution_count": null,
      "metadata": {
        "id": "-edVEKLxXA76"
      },
      "outputs": [],
      "source": [
        "# use this cell for the exercise"
      ]
    },
    {
      "cell_type": "markdown",
      "metadata": {
        "id": "cJYLQy8zXA77"
      },
      "source": [
        "The problem is that spectral properties - even for the same classes or surface materials - can vary significantly!\n",
        "\n",
        "Therefore, it makes a lot of sense to not just extract spectral properties for individual pixels, but for uniform image areas, instead. To do so, we have to use a slightly different approach: we use slicing across rows and columns to crop image areas.\n",
        "\n",
        "For instance, to extract a rectangular area that is mostly covered by grassland, we can use the following syntax:"
      ]
    },
    {
      "cell_type": "code",
      "execution_count": null,
      "metadata": {
        "id": "OPA8orgfXA77"
      },
      "outputs": [],
      "source": [
        "grassland_area = data[i, :, 75:100, 45:65]"
      ]
    },
    {
      "cell_type": "markdown",
      "metadata": {
        "id": "YwW7HrZWXA77"
      },
      "source": [
        "To validate that we really extracted the correct area, we can plot it. To do so, we first have to extract the RGB values from the crop:"
      ]
    },
    {
      "cell_type": "code",
      "execution_count": null,
      "metadata": {
        "id": "YQzU8lNOXA77"
      },
      "outputs": [],
      "source": [
        "img = np.dstack([grassland_area[0], grassland_area[1], grassland_area[2]])\n",
        "plt.imshow(img)"
      ]
    },
    {
      "cell_type": "markdown",
      "metadata": {
        "id": "UI3KPzXFXA77"
      },
      "source": [
        "Nice. We now have the capability to select image regions and build a catalog of ground-truth data for training our models."
      ]
    },
    {
      "cell_type": "markdown",
      "metadata": {
        "id": "4SQSpjvaXA77"
      },
      "source": [
        "## Data Annotations\n",
        "\n",
        "The availability of labeled examples forms the core of the supervised learning process, in which a model is trained based on these examples.\n",
        "\n",
        "In the following, we will use the scene from above and label three regions from this image into separate classes. These classes will be `grassland`, `forest` and `water`.\n",
        "\n",
        "We use the same method as above to extract pixel coordinates of rectangular regions containing either of these classes:"
      ]
    },
    {
      "cell_type": "markdown",
      "metadata": {
        "id": "kN0KQiBIXA77"
      },
      "source": [
        "We find a rectangular area covering forest in the area enclosed by the point (0, 40) and (40, 0). Let's verify:"
      ]
    },
    {
      "cell_type": "code",
      "execution_count": null,
      "metadata": {
        "id": "9Neb6sdFXA78"
      },
      "outputs": [],
      "source": [
        "forest_area = data[i, :, 0:40, 0:40]\n",
        "img = np.dstack([forest_area[0], forest_area[1], forest_area[2]])\n",
        "plt.imshow(img)"
      ]
    },
    {
      "cell_type": "markdown",
      "metadata": {
        "id": "0TANz5_jXA78"
      },
      "source": [
        "And we find surface water enclosed by the points (110, 60) and (120, 0). Let's verify:"
      ]
    },
    {
      "cell_type": "code",
      "execution_count": null,
      "metadata": {
        "id": "JxBGpbCAXA78"
      },
      "outputs": [],
      "source": [
        "water_area = data[i, :, :60, 110:120]\n",
        "img = np.dstack([water_area[0], water_area[1], water_area[2]])\n",
        "plt.imshow(img)"
      ]
    },
    {
      "cell_type": "markdown",
      "metadata": {
        "id": "HJpPgBaKXA78"
      },
      "source": [
        "Including the grassland area from above, we now defined three areas - on for each class. These areas will serve as training input data for our supervised learning approach.\n",
        "\n",
        "We extract the pixel values from each area into separate arrays for further processing:"
      ]
    },
    {
      "cell_type": "code",
      "execution_count": null,
      "metadata": {
        "id": "LomAG_eHXA78"
      },
      "outputs": [],
      "source": [
        "X_grassland = np.dstack(grassland_area).reshape(-1, 4)\n",
        "X_forest = np.dstack(forest_area).reshape(-1, 4)\n",
        "X_water = np.dstack(water_area).reshape(-1, 4)\n",
        "\n",
        "X_grassland.shape, X_forest.shape, X_water.shape"
      ]
    },
    {
      "cell_type": "markdown",
      "metadata": {
        "id": "fHPBZMsfXA78"
      },
      "source": [
        "Before we move on, we will have a look at the spectral distribution of pixels. Since it is impossible to plot a 4-dimensional dataset, we will only plot the"
      ]
    },
    {
      "cell_type": "code",
      "execution_count": null,
      "metadata": {
        "id": "V8uRdAtoXA79"
      },
      "outputs": [],
      "source": [
        "f, ax = plt.subplots(1, 1, figsize=(5, 5))\n",
        "ax.scatter(data[i, 1].flatten(), data[i, 3].flatten(), c='grey', edgecolor='none', alpha=0.2)\n",
        "ax.set_xlabel('G (scaled)')\n",
        "ax.set_ylabel('NIR (scaled)')\n",
        "\n",
        "ax.scatter(X_grassland[:, 1], X_grassland[:, 3], c='limegreen', edgecolor='none', alpha=0.5, label='grassland')\n",
        "ax.scatter(X_forest[:, 1], X_forest[:, 3], c='darkgreen', edgecolor='none', alpha=0.5, label='forest')\n",
        "ax.scatter(X_water[:, 1], X_water[:, 3], c='blue', edgecolor='none', alpha=0.5, label='water')\n",
        "\n",
        "ax.legend()"
      ]
    },
    {
      "cell_type": "markdown",
      "metadata": {
        "id": "4EcOGh9NXA79"
      },
      "source": [
        "It becomes obvious that all three class occupy different spaces in their Green-Nearinfrared space. We will leverage this observation in the following.\n",
        "\n",
        "But before we do so, we will compile a training dataset in which we combine the pixels with their corresponding class labels. The result of this will be one array, `X_data`, which we will use as input to our model and `y_data`, which will will contain the corresponding labels. Finally, we will split these arrays into our training, validation and test data split (70%/15%/15%) in a stratified fashion."
      ]
    },
    {
      "cell_type": "code",
      "execution_count": null,
      "metadata": {
        "id": "5cvxAgZ3XA7-"
      },
      "outputs": [],
      "source": [
        "from sklearn.model_selection import train_test_split\n",
        "\n",
        "# compile input and labels for previously annotated data\n",
        "X_data = np.concatenate([X_grassland, X_forest, X_water], axis=0)\n",
        "y_data = np.hstack([np.zeros(len(X_grassland)), np.ones(len(X_forest)), np.ones(len(X_water))*2])\n",
        "\n",
        "# we split the entire dataset into a training (70%) and remain (30%) split; the remain fraction will be split into validation (50%) and test (50%)\n",
        "X_train, X_remain, y_train, y_remain = train_test_split(X_data, y_data, train_size=0.7, shuffle=True, random_state=42, stratify=y_data)\n",
        "X_val, X_test, y_val, y_test = train_test_split(X_remain, y_remain, train_size=0.5, shuffle=True, random_state=42, stratify=y_remain)\n",
        "\n",
        "X_train.shape, y_train.shape, X_val.shape, y_val.shape, X_test.shape, y_test.shape\n"
      ]
    },
    {
      "cell_type": "markdown",
      "metadata": {
        "id": "s6DrnjnHXA7-"
      },
      "source": [
        "## Maximum Likelihood Classification\n",
        "\n",
        "We start with a simple Maximum Likelihood Classification method to classify all pixels in our scene. The idea behind the method is simple. We assign each pixel, $x_i$, to that class $C_j \\in (grassland, forest, water)$ that has the highest probability $P(C_J | x_i)$ of having the individual spectral characteristics of this pixel. We approximate this probability of belonging to a class $j$ through a multinormal distribution: $$P(C_j | x_i) = N(x_i | \\mu_j, \\Sigma_j)$$\n",
        "\n",
        "In doing so, the multinormal distribution approximates the spectral characteristics of each class through mean colors ($\\mu_j$) and corresponding covariances ($\\Sigma_j$). Our first step is to compute these mean values and covariances for each class."
      ]
    },
    {
      "cell_type": "code",
      "execution_count": null,
      "metadata": {
        "id": "FthDO0KtXA7-"
      },
      "outputs": [],
      "source": [
        "# compute mean pixel values for each band and class ([grassland, forest, water])\n",
        "means = np.stack([np.nanmean(X_train[y_train==0], axis=0),\n",
        "                  np.nanmean(X_train[y_train==1], axis=0),\n",
        "                  np.nanmean(X_train[y_train==2], axis=0)], axis=0)\n",
        "\n",
        "\n",
        "# compute covariance matrices for each class ([grassland, forest, water])\n",
        "covs = np.stack([np.cov(X_train[y_train==0].transpose()),\n",
        "                 np.cov(X_train[y_train==1].transpose()),\n",
        "                 np.cov(X_train[y_train==2].transpose())], axis=0)"
      ]
    },
    {
      "cell_type": "markdown",
      "metadata": {
        "id": "aJNUU1RiXA7-"
      },
      "source": [
        "Let's see whether the mean values agree with the spectral areas of our three classes:"
      ]
    },
    {
      "cell_type": "code",
      "execution_count": null,
      "metadata": {
        "id": "tP7K9G5KXA7-"
      },
      "outputs": [],
      "source": [
        "f, ax = plt.subplots(1, 1, figsize=(5, 5))\n",
        "ax.scatter(data[i, 1].flatten(), data[i, 3].flatten(), c='grey', edgecolor='none', alpha=0.2)\n",
        "ax.set_xlabel('R (scaled)')\n",
        "ax.set_ylabel('G (scaled)')\n",
        "\n",
        "ax.scatter(X_grassland[:, 1], X_grassland[:, 3], c='limegreen', edgecolor='none', alpha=0.5, label='grassland')\n",
        "ax.scatter(X_forest[:, 1], X_forest[:, 3], c='darkgreen', edgecolor='none', alpha=0.5, label='forest')\n",
        "ax.scatter(X_water[:, 1], X_water[:, 3], c='blue', edgecolor='none', alpha=0.5, label='water')\n",
        "\n",
        "ax.scatter(means[0][1], means[0][3], c='limegreen', s=200, edgecolor='black', label='mean grassland')\n",
        "ax.scatter(means[1][1], means[1][3], c='darkgreen', s=200, edgecolor='black', label='mean forest')\n",
        "ax.scatter(means[2][1], means[2][3], c='blue', s=200, edgecolor='black', label='mean water')\n",
        "\n",
        "ax.legend()"
      ]
    },
    {
      "cell_type": "markdown",
      "metadata": {
        "id": "zu0hfx95XA8E"
      },
      "source": [
        "Yes, the means are representative for the different classes.\n",
        "\n",
        "Now, we can employs these means and covariances to find the most likely class of each pixel:"
      ]
    },
    {
      "cell_type": "code",
      "execution_count": null,
      "metadata": {
        "id": "Gl4_8N5SXA8E"
      },
      "outputs": [],
      "source": [
        "from scipy.stats import multivariate_normal\n",
        "\n",
        "def maximum_likelihood_classifier(data, means, covs):\n",
        "    \"\"\"This function takes as input an array-like dataset (pixelwise band values), band mean values and corresponding covariances.\n",
        "    The output consists of the most likely class for each pixel, as well as the probabilities for all classes\"\"\"\n",
        "    p = []\n",
        "    for j in range(3):\n",
        "        p.append(multivariate_normal.pdf(data, mean=means[j], cov=covs[j]))\n",
        "    return np.argmax(p, axis=0), np.array(p)\n",
        "\n",
        "pred, prob = maximum_likelihood_classifier(np.dstack(data[i]).reshape(-1, 4), means, covs)"
      ]
    },
    {
      "cell_type": "markdown",
      "metadata": {
        "id": "im1VDoFlXA8E"
      },
      "source": [
        "We can plot the result:"
      ]
    },
    {
      "cell_type": "code",
      "execution_count": null,
      "metadata": {
        "id": "khBMwExWXA8E"
      },
      "outputs": [],
      "source": [
        "from matplotlib.colors import LinearSegmentedColormap, ListedColormap\n",
        "\n",
        "# create a colormap\n",
        "colors = ['limegreen',  # grassland\n",
        "          'darkgreen',  # forest\n",
        "          'blue']  # water\n",
        "cmap = LinearSegmentedColormap.from_list(\"cmap\", colors)\n",
        "\n",
        "# create a plot\n",
        "f, ax = plt.subplots(1, 2, sharex=True, sharey=True, figsize=(12, 6))\n",
        "\n",
        "img = np.dstack([data[i][0], data[i][1], data[i][2]])  # we extract the R, G, B bands for this scene\n",
        "img = (img-np.min(img, axis=(0,1)))/(np.max(img, axis=(0,1)) - np.min(img, axis=(0,1)))\n",
        "ax[0].imshow(img)\n",
        "\n",
        "ax[1].imshow(pred.reshape(120, 120), cmap=cmap)"
      ]
    },
    {
      "cell_type": "markdown",
      "metadata": {
        "id": "zuDVIQ8QXA8F"
      },
      "source": [
        "This looks already pretty good!\n",
        "\n",
        "**Exercise**: Apply the model to different image from our dataset. Does it work as well? If not, why?"
      ]
    },
    {
      "cell_type": "code",
      "execution_count": null,
      "metadata": {
        "id": "CKP32Se8XA8F"
      },
      "outputs": [],
      "source": [
        "# use this cell for the exercise"
      ]
    },
    {
      "cell_type": "markdown",
      "metadata": {
        "id": "6_osMWadXA8F"
      },
      "source": [
        "## Model Evaluation\n",
        "\n",
        "Qualitatively, the results look promising. Does the same apply to the quantitative results?\n",
        "\n",
        "We can evaluate our model performance on our test dataset, which is independent from our training dataset. As our performance metric, we choose the accuracy metric."
      ]
    },
    {
      "cell_type": "code",
      "execution_count": null,
      "metadata": {
        "id": "VPvXHslUXA8F"
      },
      "outputs": [],
      "source": [
        "from sklearn.metrics import accuracy_score\n",
        "\n",
        "# compute predictions for our test dataset\n",
        "pred, prob = maximum_likelihood_classifier(X_test, means, covs)\n",
        "\n",
        "# compute accuracy score\n",
        "print(\"accuracy:\", accuracy_score(pred, y_test))"
      ]
    },
    {
      "cell_type": "markdown",
      "metadata": {
        "id": "zUYcKJMqXA8F"
      },
      "source": [
        "This is a very good result! Let's see, whether we can improve on this result..."
      ]
    },
    {
      "cell_type": "markdown",
      "metadata": {
        "id": "6G2TZhdIXA8F"
      },
      "source": [
        "## k-Nearest Neighbor Classification\n",
        "\n",
        "Maximum Likelihood is a rather simple classification model. We will now employ a nearest neighbor ($k=1$) model.\n",
        "\n"
      ]
    },
    {
      "cell_type": "code",
      "execution_count": null,
      "metadata": {
        "id": "AROe7LO_XA8F"
      },
      "outputs": [],
      "source": [
        "from sklearn.neighbors import KNeighborsClassifier\n",
        "\n",
        "# instantiate the model\n",
        "model = KNeighborsClassifier(1)\n",
        "\n",
        "# \"train\" the model on the training dataset\n",
        "model.fit(X_train, y_train)"
      ]
    },
    {
      "cell_type": "markdown",
      "metadata": {
        "id": "XjFuV0xrXA8F"
      },
      "source": [
        "As we did before, we plot the prediction for the entire scene:"
      ]
    },
    {
      "cell_type": "code",
      "execution_count": null,
      "metadata": {
        "id": "sJhGBwd7XA8F"
      },
      "outputs": [],
      "source": [
        "# predict classes for each pixel\n",
        "pred = model.predict(np.dstack(data[i]).reshape(-1, 4))\n",
        "\n",
        "f, ax = plt.subplots(1, 2, sharex=True, sharey=True, figsize=(12, 6))\n",
        "\n",
        "img = np.dstack([data[i][0], data[i][1], data[i][2]])  # we extract the R, G, B bands for this scene\n",
        "img = (img-np.min(img, axis=(0,1)))/(np.max(img, axis=(0,1)) - np.min(img, axis=(0,1)))\n",
        "ax[0].imshow(img)\n",
        "\n",
        "ax[1].imshow(pred.reshape(120, 120), cmap=cmap)"
      ]
    },
    {
      "cell_type": "markdown",
      "metadata": {
        "id": "ZcqUIefsXA8I"
      },
      "source": [
        "The qualitative result also looks very good! What about the accuracy metric?"
      ]
    },
    {
      "cell_type": "code",
      "execution_count": null,
      "metadata": {
        "id": "Sn9H8adVXA8I"
      },
      "outputs": [],
      "source": [
        "from sklearn.metrics import accuracy_score\n",
        "\n",
        "pred = model.predict(X_test)\n",
        "accuracy_score(pred, y_test)"
      ]
    },
    {
      "cell_type": "markdown",
      "metadata": {
        "id": "XdEO_izXXA8J"
      },
      "source": [
        "Well, the nearest neighbor classifier does indeed outperform the Maximum Likelihood model.\n",
        "\n",
        "We can look at the mistakes the model makes using a confusion matrix:"
      ]
    },
    {
      "cell_type": "code",
      "execution_count": null,
      "metadata": {
        "id": "2DSRO9q_XA8J"
      },
      "outputs": [],
      "source": [
        "from sklearn.metrics import confusion_matrix\n",
        "# todo: add seaborn confusion matrix\n",
        "\n",
        "confusion_matrix(pred, y_test)"
      ]
    },
    {
      "cell_type": "markdown",
      "metadata": {
        "id": "aA4RrGe9XA8J"
      },
      "source": [
        "**Exercise**: We did not tune the hyperparameter ($k$) of our model. Train and evaluate the model for $k=5$, $k=10$ and $k=50$. What is the accuracy on the validation dataset for each of those parameters?"
      ]
    },
    {
      "cell_type": "code",
      "execution_count": null,
      "metadata": {
        "id": "bxHPo42jXA8J"
      },
      "outputs": [],
      "source": [
        "# use this cell for the exercise"
      ]
    },
    {
      "cell_type": "markdown",
      "metadata": {
        "id": "fV0-AAtVXA8K"
      },
      "source": [
        "**Exercise**: Our training dataset is rather small. Add more data to our training dataset by extending the arrays `X_grassland`, `X_forest` and `X_water` with additional pixel areas (also from other images!)."
      ]
    },
    {
      "cell_type": "code",
      "execution_count": null,
      "metadata": {
        "id": "n2jrBNc0XA8K"
      },
      "outputs": [],
      "source": [
        "# use this cell for the exercise"
      ]
    },
    {
      "cell_type": "markdown",
      "metadata": {
        "id": "i2B0aq0wXA8K"
      },
      "source": [
        "**Exercise**: Replace the k-nearest neighbor model with a random forest model."
      ]
    },
    {
      "cell_type": "code",
      "execution_count": null,
      "metadata": {
        "id": "0OwReCJNXA8K"
      },
      "outputs": [],
      "source": [
        "# use this cell for the exercise"
      ]
    },
    {
      "cell_type": "markdown",
      "metadata": {
        "id": "nSEyYx-rXA8L"
      },
      "source": [
        "**Exercise**: Add an additional class to your set of classes: `snow`. You can use the image `i = 655` as a sample. Create this new class and corresponding training data. Train either of the previously discussed models and apply the model to the entire dataset. How many images in the entire dataset have snow in them based on your trained model?"
      ]
    },
    {
      "cell_type": "markdown",
      "metadata": {
        "id": "XkaWZjF9XA8L"
      },
      "source": [
        "# use this cell for the exercise"
      ]
    }
  ],
  "metadata": {
    "kernelspec": {
      "display_name": "base",
      "language": "python",
      "name": "python3"
    },
    "language_info": {
      "codemirror_mode": {
        "name": "ipython",
        "version": 3
      },
      "file_extension": ".py",
      "mimetype": "text/x-python",
      "name": "python",
      "nbconvert_exporter": "python",
      "pygments_lexer": "ipython3",
      "version": "3.11.5"
    },
    "colab": {
      "provenance": []
    }
  },
  "nbformat": 4,
  "nbformat_minor": 0
}